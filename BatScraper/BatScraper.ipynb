{
 "cells": [
  {
   "cell_type": "code",
   "execution_count": 26,
   "metadata": {},
   "outputs": [],
   "source": [
    "from selenium import webdriver;\n",
    "from selenium.webdriver.common.keys import Keys;\n",
    "from selenium.webdriver.firefox.options import Options;"
   ]
  },
  {
   "cell_type": "code",
   "execution_count": 27,
   "metadata": {},
   "outputs": [],
   "source": [
    "options = Options();\n",
    "options.headless = True;\n",
    "driver = webdriver.Firefox(options=options);"
   ]
  },
  {
   "cell_type": "code",
   "execution_count": 29,
   "metadata": {},
   "outputs": [],
   "source": [
    "driver.get(\"http://baseballbats.net/bat-brands/\");"
   ]
  },
  {
   "cell_type": "code",
   "execution_count": 30,
   "metadata": {},
   "outputs": [],
   "source": [
    "lm = driver.find_elements_by_xpath(\"//a[contains(text(), 'Learn More >')]\");"
   ]
  },
  {
   "cell_type": "code",
   "execution_count": 31,
   "metadata": {},
   "outputs": [
    {
     "name": "stdout",
     "output_type": "stream",
     "text": [
      "http://www.baseballbats.net/bat-brands/baum-bats/\n",
      "http://baseballbats.net/bat-brands/anderson-bat-company/\n",
      "http://www.baseballbats.net/bat-brands/axe-bat/\n",
      "http://baseballbats.net/bat-brands/viper-bats/\n",
      "http://baseballbats.net/bat-brands/demarini/\n",
      "http://baseballbats.net/bat-brands/rawlings/\n",
      "http://baseballbats.net/bat-brands/combat/\n",
      "http://www.baseballbats.net/bat-brands/easton/\n",
      "http://baseballbats.net/bat-brands/akadema/\n",
      "http://baseballbats.net/bat-brands/worth/\n",
      "http://baseballbats.net/bat-brands/mizuno/\n",
      "http://baseballbats.net/bat-brands/brett-brothers/\n",
      "http://www.baseballbats.net/bat-brands/ruth-baseball-bats/\n",
      "http://baseballbats.net/bat-brands/mattingly/\n",
      "http://www.baseballbats.net/bat-brands/miken/\n",
      "http://baseballbats.net/bat-brands/x-bat/\n",
      "http://www.baseballbats.net/bat-brands/old-hickory/\n",
      "http://www.baseballbats.net/bat-brands/marucci-baseball-bats/\n",
      "http://baseballbats.net/bat-brands/sam-bat/\n",
      "http://baseballbats.net/bat-brands/phoenix-bats/\n",
      "http://baseballbats.net/bat-brands/max-bat/\n",
      "http://baseballbats.net/bat-brands/bwp/\n",
      "http://baseballbats.net/bat-brands/striker-bat-company/\n",
      "http://baseballbats.net/bat-brands/mpowered/\n",
      "http://www.baseballbats.net/bat-brands/louisville-slugger/\n",
      "http://baseballbats.net/bat-brands/superior-bat/\n",
      "http://baseballbats.net/bat-brands/rockbats/\n",
      "http://baseballbats.net/bat-brands/d-bat/\n",
      "http://baseballbats.net/bat-brands/pro-bats/\n",
      "http://baseballbats.net/bat-brands/back-yard-bat-co/\n",
      "http://www.baseballbats.net/bat-brands/glomar-pro-bats/\n",
      "http://www.baseballbats.net/bat-brands/bamboobat-company/\n",
      "http://www.baseballbats.net/bat-brands/kr3/\n",
      "http://www.baseballbats.net/bat-brands/trinity-bat-company/\n",
      "http://www.baseballbats.net/bat-brands/dinger-bats/\n",
      "http://www.baseballbats.net/bat-brands/annex-baseball/\n",
      "http://www.baseballbats.net/bat-brands/chameleon-bats/\n",
      "http://www.baseballbats.net/bat-brands/ssk/\n",
      "http://www.baseballbats.net/bat-brands/dove-tail-bats/\n",
      "http://www.baseballbats.net/bat-brands/zinger-bat-co/\n",
      "http://www.baseballbats.net/bat-brands/chandler-bats/\n",
      "http://www.baseballbats.net/bat-brands/victus-sports/\n",
      "http://www.baseballbats.net/bat-brands/tucci-lumber-company/\n",
      "http://www.baseballbats.net/bat-brands/outlaw-bats/\n",
      "http://www.baseballbats.net/bat-brands/natural-bat-company/\n",
      "http://www.baseballbats.net/bat-brands/macdougall-batmakers/\n",
      "http://www.baseballbats.net/bat-brands/texas-timber-bat-co/\n",
      "http://www.baseballbats.net/bat-brands/jaw-bats/\n",
      "http://www.baseballbats.net/bat-brands/game-1-sports/\n",
      "http://www.baseballbats.net/bat-brands/mine-wood-bats/\n",
      "http://www.baseballbats.net/bat-brands/warstic-wood-bat-co/\n",
      "http://www.baseballbats.net/bat-brands/east-coast-bat-company/\n",
      "http://www.baseballbats.net/bat-brands/smacker-bat-co/\n",
      "http://www.baseballbats.net/bat-brands/ds-wood-bats/\n",
      "http://www.baseballbats.net/bat-brands/proxr-bats/\n",
      "http://www.baseballbats.net/bat-brands/dream-bat-company/\n",
      "http://www.baseballbats.net/bat-brands/clutch-stick-baseball-bats/\n",
      "http://www.baseballbats.net/bat-brands/kren-bat-company/\n",
      "http://www.baseballbats.net/bat-brands/southbat/\n",
      "http://www.baseballbats.net/bat-brands/madden-bats/\n",
      "http://www.baseballbats.net/bat-brands/americas-bat-company/\n",
      "http://www.baseballbats.net/bat-brands/rip-it/\n",
      "http://www.baseballbats.net/bat-brands/rude-american-bat-company/\n",
      "http://www.baseballbats.net/bat-brands/atomic-bat-company/\n",
      "http://www.baseballbats.net/valor-bat-company/\n",
      "http://www.baseballbats.net/bat-brands/dirty-south-bats/\n",
      "http://www.baseballbats.net/sabrecat-bats/\n",
      "http://www.baseballbats.net/bat-brands/carolina-clubs/\n",
      "http://www.baseballbats.net/bat-brands/b45/\n",
      "http://www.baseballbats.net/bat-brands/caliburn-bat-company/\n",
      "http://www.baseballbats.net/bat-brands/tater-bats/\n",
      "http://www.baseballbats.net/bat-brands/birchbats/\n",
      "http://www.baseballbats.net/bat-brands/aul-bat-company/\n",
      "http://www.baseballbats.net/bat-brands/black-widow-bats/\n",
      "http://www.baseballbats.net/bat-brands/3031-2/\n",
      "http://www.baseballbats.net/bat-brands/anchor-bat-company/\n",
      "http://www.baseballbats.net/bat-brands/zorian-bat-company/\n",
      "http://www.baseballbats.net/bat-brands/prairie-sticks-bat-company/\n",
      "http://www.baseballbats.net/bat-brands/bear-valley-bats/\n",
      "http://www.baseballbats.net/bat-brands/3074-2/\n",
      "http://www.baseballbats.net/bat-brands/thorium-bat-company/\n",
      "http://www.baseballbats.net/bat-brands/homewood-bat-company/\n",
      "http://www.baseballbats.net/bat-brands/otw-bat-company/\n",
      "http://www.baseballbats.net/bat-brands/yaya-baseball/\n",
      "http://www.baseballbats.net/bat-brands/mad-dog-bats/\n",
      "http://www.baseballbats.net/bat-brands/beaver-bat-company/\n",
      "http://www.baseballbats.net/bat-brands/hendrix-bats/\n",
      "http://www.baseballbats.net/bat-brands/zero-k-bats/\n",
      "http://www.baseballbats.net/bat-brands/pillbox-bat-company/\n",
      "http://www.baseballbats.net/bat-brands/hoosier-bat-company-2/\n",
      "http://www.baseballbats.net/bat-brands/vullo-bat-company/\n",
      "http://www.baseballbats.net/bat-brands/meridian-baseball-company/\n",
      "http://www.baseballbats.net/bat-brands/phenom-bat-company/\n",
      "http://www.baseballbats.net/bat-brands/bonsall-bat-company/\n"
     ]
    }
   ],
   "source": [
    "for i in lm:\n",
    "    print(i.get_attribute(\"href\"));"
   ]
  },
  {
   "cell_type": "code",
   "execution_count": 32,
   "metadata": {},
   "outputs": [],
   "source": [
    "driver.get(\"http://baseballbats.net/bat-brands/anderson-bat-company/\");"
   ]
  },
  {
   "cell_type": "code",
   "execution_count": 33,
   "metadata": {},
   "outputs": [
    {
     "name": "stdout",
     "output_type": "stream",
     "text": [
      "Anderson Bat Company\n"
     ]
    }
   ],
   "source": [
    "CompanyName:str = driver.find_element_by_class_name(\"entry-title\").text;\n",
    "print(CompanyName);"
   ]
  },
  {
   "cell_type": "code",
   "execution_count": 36,
   "metadata": {
    "scrolled": true
   },
   "outputs": [
    {
     "name": "stdout",
     "output_type": "stream",
     "text": [
      "['1991', 'Santa Fe Springs, CA', '(888) 777-4487']\n"
     ]
    }
   ],
   "source": [
    "CompanyOverView:str = driver.find_element_by_class_name(\"wp-caption-text\").text;\n",
    "CompanyOverView = CompanyOverView.replace(\"Founded: \", \"\").replace(\"Location: \", \"\");\n",
    "CompanyOverView = CompanyOverView.replace(\"Customer Service: \", \"\").split(\"\\n\");\n",
    "print(CompanyOverView[0:-1])"
   ]
  },
  {
   "cell_type": "code",
   "execution_count": 24,
   "metadata": {},
   "outputs": [
    {
     "name": "stdout",
     "output_type": "stream",
     "text": [
      "http://andersonbat.com/\n"
     ]
    }
   ],
   "source": [
    "CompanyWebsite:str = driver.find_element_by_css_selector(\"#caption-attachment-571 > a:nth-child(4)\").get_attribute(\"href\");\n",
    "print(CompanyWebsite);"
   ]
  },
  {
   "cell_type": "code",
   "execution_count": null,
   "metadata": {},
   "outputs": [],
   "source": [
    "#wp-image-571 size-medium"
   ]
  },
  {
   "cell_type": "code",
   "execution_count": 42,
   "metadata": {},
   "outputs": [
    {
     "ename": "NoSuchElementException",
     "evalue": "Message: Unable to locate element: //img[@class='wp-image-571' and @class='size-medium']\n",
     "output_type": "error",
     "traceback": [
      "\u001b[0;31m---------------------------------------------------------------------------\u001b[0m",
      "\u001b[0;31mNoSuchElementException\u001b[0m                    Traceback (most recent call last)",
      "\u001b[0;32m<ipython-input-42-2ee2f1b5a118>\u001b[0m in \u001b[0;36m<module>\u001b[0;34m\u001b[0m\n\u001b[0;32m----> 1\u001b[0;31m \u001b[0mcc\u001b[0m \u001b[0;34m=\u001b[0m \u001b[0mdriver\u001b[0m\u001b[0;34m.\u001b[0m\u001b[0mfind_element_by_xpath\u001b[0m\u001b[0;34m(\u001b[0m\u001b[0;34m\"//img[@class='wp-image-571' and @class='size-medium']\"\u001b[0m\u001b[0;34m)\u001b[0m\u001b[0;34m;\u001b[0m\u001b[0;34m\u001b[0m\u001b[0;34m\u001b[0m\u001b[0m\n\u001b[0m",
      "\u001b[0;32m~/.local/lib/python3.6/site-packages/selenium/webdriver/remote/webdriver.py\u001b[0m in \u001b[0;36mfind_element_by_xpath\u001b[0;34m(self, xpath)\u001b[0m\n\u001b[1;32m    392\u001b[0m             \u001b[0melement\u001b[0m \u001b[0;34m=\u001b[0m \u001b[0mdriver\u001b[0m\u001b[0;34m.\u001b[0m\u001b[0mfind_element_by_xpath\u001b[0m\u001b[0;34m(\u001b[0m\u001b[0;34m'//div/td[1]'\u001b[0m\u001b[0;34m)\u001b[0m\u001b[0;34m\u001b[0m\u001b[0;34m\u001b[0m\u001b[0m\n\u001b[1;32m    393\u001b[0m         \"\"\"\n\u001b[0;32m--> 394\u001b[0;31m         \u001b[0;32mreturn\u001b[0m \u001b[0mself\u001b[0m\u001b[0;34m.\u001b[0m\u001b[0mfind_element\u001b[0m\u001b[0;34m(\u001b[0m\u001b[0mby\u001b[0m\u001b[0;34m=\u001b[0m\u001b[0mBy\u001b[0m\u001b[0;34m.\u001b[0m\u001b[0mXPATH\u001b[0m\u001b[0;34m,\u001b[0m \u001b[0mvalue\u001b[0m\u001b[0;34m=\u001b[0m\u001b[0mxpath\u001b[0m\u001b[0;34m)\u001b[0m\u001b[0;34m\u001b[0m\u001b[0;34m\u001b[0m\u001b[0m\n\u001b[0m\u001b[1;32m    395\u001b[0m \u001b[0;34m\u001b[0m\u001b[0m\n\u001b[1;32m    396\u001b[0m     \u001b[0;32mdef\u001b[0m \u001b[0mfind_elements_by_xpath\u001b[0m\u001b[0;34m(\u001b[0m\u001b[0mself\u001b[0m\u001b[0;34m,\u001b[0m \u001b[0mxpath\u001b[0m\u001b[0;34m)\u001b[0m\u001b[0;34m:\u001b[0m\u001b[0;34m\u001b[0m\u001b[0;34m\u001b[0m\u001b[0m\n",
      "\u001b[0;32m~/.local/lib/python3.6/site-packages/selenium/webdriver/remote/webdriver.py\u001b[0m in \u001b[0;36mfind_element\u001b[0;34m(self, by, value)\u001b[0m\n\u001b[1;32m    976\u001b[0m         return self.execute(Command.FIND_ELEMENT, {\n\u001b[1;32m    977\u001b[0m             \u001b[0;34m'using'\u001b[0m\u001b[0;34m:\u001b[0m \u001b[0mby\u001b[0m\u001b[0;34m,\u001b[0m\u001b[0;34m\u001b[0m\u001b[0;34m\u001b[0m\u001b[0m\n\u001b[0;32m--> 978\u001b[0;31m             'value': value})['value']\n\u001b[0m\u001b[1;32m    979\u001b[0m \u001b[0;34m\u001b[0m\u001b[0m\n\u001b[1;32m    980\u001b[0m     \u001b[0;32mdef\u001b[0m \u001b[0mfind_elements\u001b[0m\u001b[0;34m(\u001b[0m\u001b[0mself\u001b[0m\u001b[0;34m,\u001b[0m \u001b[0mby\u001b[0m\u001b[0;34m=\u001b[0m\u001b[0mBy\u001b[0m\u001b[0;34m.\u001b[0m\u001b[0mID\u001b[0m\u001b[0;34m,\u001b[0m \u001b[0mvalue\u001b[0m\u001b[0;34m=\u001b[0m\u001b[0;32mNone\u001b[0m\u001b[0;34m)\u001b[0m\u001b[0;34m:\u001b[0m\u001b[0;34m\u001b[0m\u001b[0;34m\u001b[0m\u001b[0m\n",
      "\u001b[0;32m~/.local/lib/python3.6/site-packages/selenium/webdriver/remote/webdriver.py\u001b[0m in \u001b[0;36mexecute\u001b[0;34m(self, driver_command, params)\u001b[0m\n\u001b[1;32m    319\u001b[0m         \u001b[0mresponse\u001b[0m \u001b[0;34m=\u001b[0m \u001b[0mself\u001b[0m\u001b[0;34m.\u001b[0m\u001b[0mcommand_executor\u001b[0m\u001b[0;34m.\u001b[0m\u001b[0mexecute\u001b[0m\u001b[0;34m(\u001b[0m\u001b[0mdriver_command\u001b[0m\u001b[0;34m,\u001b[0m \u001b[0mparams\u001b[0m\u001b[0;34m)\u001b[0m\u001b[0;34m\u001b[0m\u001b[0;34m\u001b[0m\u001b[0m\n\u001b[1;32m    320\u001b[0m         \u001b[0;32mif\u001b[0m \u001b[0mresponse\u001b[0m\u001b[0;34m:\u001b[0m\u001b[0;34m\u001b[0m\u001b[0;34m\u001b[0m\u001b[0m\n\u001b[0;32m--> 321\u001b[0;31m             \u001b[0mself\u001b[0m\u001b[0;34m.\u001b[0m\u001b[0merror_handler\u001b[0m\u001b[0;34m.\u001b[0m\u001b[0mcheck_response\u001b[0m\u001b[0;34m(\u001b[0m\u001b[0mresponse\u001b[0m\u001b[0;34m)\u001b[0m\u001b[0;34m\u001b[0m\u001b[0;34m\u001b[0m\u001b[0m\n\u001b[0m\u001b[1;32m    322\u001b[0m             response['value'] = self._unwrap_value(\n\u001b[1;32m    323\u001b[0m                 response.get('value', None))\n",
      "\u001b[0;32m~/.local/lib/python3.6/site-packages/selenium/webdriver/remote/errorhandler.py\u001b[0m in \u001b[0;36mcheck_response\u001b[0;34m(self, response)\u001b[0m\n\u001b[1;32m    240\u001b[0m                 \u001b[0malert_text\u001b[0m \u001b[0;34m=\u001b[0m \u001b[0mvalue\u001b[0m\u001b[0;34m[\u001b[0m\u001b[0;34m'alert'\u001b[0m\u001b[0;34m]\u001b[0m\u001b[0;34m.\u001b[0m\u001b[0mget\u001b[0m\u001b[0;34m(\u001b[0m\u001b[0;34m'text'\u001b[0m\u001b[0;34m)\u001b[0m\u001b[0;34m\u001b[0m\u001b[0;34m\u001b[0m\u001b[0m\n\u001b[1;32m    241\u001b[0m             \u001b[0;32mraise\u001b[0m \u001b[0mexception_class\u001b[0m\u001b[0;34m(\u001b[0m\u001b[0mmessage\u001b[0m\u001b[0;34m,\u001b[0m \u001b[0mscreen\u001b[0m\u001b[0;34m,\u001b[0m \u001b[0mstacktrace\u001b[0m\u001b[0;34m,\u001b[0m \u001b[0malert_text\u001b[0m\u001b[0;34m)\u001b[0m\u001b[0;34m\u001b[0m\u001b[0;34m\u001b[0m\u001b[0m\n\u001b[0;32m--> 242\u001b[0;31m         \u001b[0;32mraise\u001b[0m \u001b[0mexception_class\u001b[0m\u001b[0;34m(\u001b[0m\u001b[0mmessage\u001b[0m\u001b[0;34m,\u001b[0m \u001b[0mscreen\u001b[0m\u001b[0;34m,\u001b[0m \u001b[0mstacktrace\u001b[0m\u001b[0;34m)\u001b[0m\u001b[0;34m\u001b[0m\u001b[0;34m\u001b[0m\u001b[0m\n\u001b[0m\u001b[1;32m    243\u001b[0m \u001b[0;34m\u001b[0m\u001b[0m\n\u001b[1;32m    244\u001b[0m     \u001b[0;32mdef\u001b[0m \u001b[0m_value_or_default\u001b[0m\u001b[0;34m(\u001b[0m\u001b[0mself\u001b[0m\u001b[0;34m,\u001b[0m \u001b[0mobj\u001b[0m\u001b[0;34m,\u001b[0m \u001b[0mkey\u001b[0m\u001b[0;34m,\u001b[0m \u001b[0mdefault\u001b[0m\u001b[0;34m)\u001b[0m\u001b[0;34m:\u001b[0m\u001b[0;34m\u001b[0m\u001b[0;34m\u001b[0m\u001b[0m\n",
      "\u001b[0;31mNoSuchElementException\u001b[0m: Message: Unable to locate element: //img[@class='wp-image-571' and @class='size-medium']\n"
     ]
    }
   ],
   "source": [
    "cc = driver.find_element_by_xpath(\"//img[@class='wp-image-571' and @class='size-medium']\");"
   ]
  },
  {
   "cell_type": "code",
   "execution_count": 41,
   "metadata": {},
   "outputs": [
    {
     "ename": "AttributeError",
     "evalue": "'list' object has no attribute 'get_attribute'",
     "output_type": "error",
     "traceback": [
      "\u001b[0;31m---------------------------------------------------------------------------\u001b[0m",
      "\u001b[0;31mAttributeError\u001b[0m                            Traceback (most recent call last)",
      "\u001b[0;32m<ipython-input-41-8a1ee620a38b>\u001b[0m in \u001b[0;36m<module>\u001b[0;34m\u001b[0m\n\u001b[0;32m----> 1\u001b[0;31m \u001b[0mprint\u001b[0m\u001b[0;34m(\u001b[0m\u001b[0mcc\u001b[0m\u001b[0;34m.\u001b[0m\u001b[0mget_attribute\u001b[0m\u001b[0;34m(\u001b[0m\u001b[0;34m\"href\"\u001b[0m\u001b[0;34m)\u001b[0m\u001b[0;34m)\u001b[0m\u001b[0;34m;\u001b[0m\u001b[0;34m\u001b[0m\u001b[0;34m\u001b[0m\u001b[0m\n\u001b[0m",
      "\u001b[0;31mAttributeError\u001b[0m: 'list' object has no attribute 'get_attribute'"
     ]
    }
   ],
   "source": [
    "print(cc.get_attribute(\"href\"));"
   ]
  },
  {
   "cell_type": "code",
   "execution_count": 68,
   "metadata": {},
   "outputs": [
    {
     "name": "stdout",
     "output_type": "stream",
     "text": [
      "http://baseballbats.net/wp-content/uploads/2014/09/baseball-net-logo-blur-bg-2.png\n"
     ]
    }
   ],
   "source": [
    "CompanyLogo:str = driver.find_element_by_xpath(\"//a/img\").get_attribute(\"src\");\n",
    "print(CompanyLogo);"
   ]
  },
  {
   "cell_type": "code",
   "execution_count": 46,
   "metadata": {},
   "outputs": [],
   "source": [
    "CL:str = driver.find_element_by_xpath(\"/html/body/div/div/div[2]/div/div[2]/div/div/div/div[3]/div/div/div[1]/div/article/div/div[1]/a/img\").get_attribute(\"href\");"
   ]
  },
  {
   "cell_type": "code",
   "execution_count": 48,
   "metadata": {},
   "outputs": [
    {
     "name": "stdout",
     "output_type": "stream",
     "text": [
      "None\n"
     ]
    }
   ],
   "source": [
    "print(CL)"
   ]
  },
  {
   "cell_type": "code",
   "execution_count": 1,
   "metadata": {},
   "outputs": [],
   "source": [
    "import xlsxwriter;"
   ]
  },
  {
   "cell_type": "code",
   "execution_count": 95,
   "metadata": {},
   "outputs": [],
   "source": [
    "workbook = xlsxwriter.Workbook('Bats.xlsx');\n",
    "worksheet = workbook.add_worksheet();"
   ]
  },
  {
   "cell_type": "code",
   "execution_count": 98,
   "metadata": {},
   "outputs": [],
   "source": [
    "workbook = xlsxwriter.Workbook('Bats.xlsx');\n",
    "worksheet = workbook.add_worksheet();"
   ]
  },
  {
   "cell_type": "code",
   "execution_count": 75,
   "metadata": {},
   "outputs": [],
   "source": [
    "row = 0\n",
    "column = 0\n",
    "  \n",
    "content = [\"ankit\", \"rahul\", \"priya\", \"harshita\", \n",
    "                    \"sumit\", \"neeraj\", \"shivam\"] \n",
    "  \n",
    "# iterating through content list \n",
    "for item in content : \n",
    "  \n",
    "    # write operation perform \n",
    "    worksheet.write(row, column, item) \n",
    "  \n",
    "    # incrementing the value of row by one \n",
    "    # with each iteratons. \n",
    "    row += 1\n",
    "      \n",
    "workbook.close()"
   ]
  },
  {
   "cell_type": "code",
   "execution_count": 99,
   "metadata": {},
   "outputs": [],
   "source": [
    "worksheet.write('A1', 'Company Name');\n",
    "worksheet.write('B1', 'Founded');\n",
    "worksheet.write('C1', 'Location');\n",
    "worksheet.write('D1', 'Telephone');\n",
    "worksheet.write('E1', 'Website URL');\n",
    "worksheet.write('F1', 'Logo URL');"
   ]
  },
  {
   "cell_type": "code",
   "execution_count": 100,
   "metadata": {},
   "outputs": [],
   "source": [
    "workbook.close()"
   ]
  },
  {
   "cell_type": "code",
   "execution_count": 76,
   "metadata": {},
   "outputs": [],
   "source": [
    "workbook = xlsxwriter.Workbook('teste.xlsx');\n",
    "worksheet = workbook.add_worksheet();\n",
    "worksheet.write('A1', 'Company Name');\n",
    "worksheet.write('B1', 'Founded');\n",
    "worksheet.write('C1', 'Location');\n",
    "worksheet.write('D1', 'Telephone');\n",
    "worksheet.write('E1', 'Website URL');\n",
    "worksheet.write('F1', 'Logo URL');"
   ]
  },
  {
   "cell_type": "code",
   "execution_count": null,
   "metadata": {},
   "outputs": [],
   "source": [
    "for i in range(1,6):\n",
    "    worksheet.write(0, i, item)"
   ]
  },
  {
   "cell_type": "code",
   "execution_count": 81,
   "metadata": {},
   "outputs": [],
   "source": [
    "import openpyxl;"
   ]
  },
  {
   "cell_type": "code",
   "execution_count": 82,
   "metadata": {},
   "outputs": [],
   "source": [
    "xlsx = openpyxl.load_workbook('Bats.xlsx');"
   ]
  },
  {
   "cell_type": "code",
   "execution_count": 84,
   "metadata": {},
   "outputs": [],
   "source": [
    "sheet = xlsx.active"
   ]
  },
  {
   "cell_type": "code",
   "execution_count": 86,
   "metadata": {},
   "outputs": [],
   "source": [
    "sheet.cell(row = 1, column = 2).value = 'A Programming Site'\n",
    "sheet.cell(row = 2, column = 1).value = \"B1\"\n",
    "\n",
    "## saving the xlsx file using 'save' method\n",
    "xlsx.save('Bats.xlsx')"
   ]
  },
  {
   "cell_type": "code",
   "execution_count": 2,
   "metadata": {},
   "outputs": [],
   "source": [
    "for i in range(10):\n",
    "    workbook = xlsxwriter.Workbook('Bats{}.xlsx'.format(i));\n",
    "    worksheet = workbook.add_worksheet();\n",
    "    worksheet.write('A1', 'Company Name');\n",
    "    worksheet.write('B1', 'Founded');\n",
    "    worksheet.write('C1', 'Location');\n",
    "    worksheet.write('D1', 'Telephone');\n",
    "    worksheet.write('E1', 'Website URL');\n",
    "    worksheet.write('F1', 'Logo URL');\n",
    "    workbook.close()"
   ]
  }
 ],
 "metadata": {
  "kernelspec": {
   "display_name": "Python 3",
   "language": "python",
   "name": "python3"
  },
  "language_info": {
   "codemirror_mode": {
    "name": "ipython",
    "version": 3
   },
   "file_extension": ".py",
   "mimetype": "text/x-python",
   "name": "python",
   "nbconvert_exporter": "python",
   "pygments_lexer": "ipython3",
   "version": "3.6.9"
  }
 },
 "nbformat": 4,
 "nbformat_minor": 4
}
